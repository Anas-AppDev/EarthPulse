{
 "cells": [
  {
   "cell_type": "code",
   "execution_count": null,
   "metadata": {},
   "outputs": [],
   "source": [
    "import tensorflow as tf\n",
    "import os\n",
    "import numpy as np\n",
    "import matplotlib.pyplot as plt\n",
    "import tifffile as tiff\n",
    "import pandas as pd\n",
    "import json\n",
    "\n"
   ]
  },
  {
   "cell_type": "code",
   "execution_count": null,
   "metadata": {},
   "outputs": [],
   "source": [
    "#dataset link\n",
    "url= \"https://zenodo.org/records/7711810/files/EuroSAT_MS.zip?download=1\""
   ]
  },
  {
   "cell_type": "code",
   "execution_count": null,
   "metadata": {},
   "outputs": [],
   "source": [
    "tf.config.list_physical_devices()"
   ]
  },
  {
   "cell_type": "code",
   "execution_count": null,
   "metadata": {},
   "outputs": [],
   "source": [
    "cd /workspace/solution"
   ]
  },
  {
   "cell_type": "code",
   "execution_count": null,
   "metadata": {},
   "outputs": [],
   "source": [
    "ls"
   ]
  },
  {
   "cell_type": "code",
   "execution_count": null,
   "metadata": {},
   "outputs": [],
   "source": [
    "#load the images using tf.data.Dataset\n",
    "data_dir = \"EuroSAT_MS\"\n",
    "\n",
    "#list the files in the directory\n",
    "file_list = tf.io.gfile.glob(data_dir + '/*/*.tif')"
   ]
  },
  {
   "cell_type": "code",
   "execution_count": null,
   "metadata": {},
   "outputs": [],
   "source": [
    "#writie a metadata file\n",
    "import pandas as pd\n",
    "df = pd.DataFrame(file_list, columns=[\"file_path\"])"
   ]
  },
  {
   "cell_type": "code",
   "execution_count": null,
   "metadata": {},
   "outputs": [],
   "source": [
    "#split the file path to get the class name\n",
    "df[\"class_name\"] = df[\"file_path\"].apply(lambda x: x.split(\"/\")[-2])"
   ]
  },
  {
   "cell_type": "code",
   "execution_count": null,
   "metadata": {},
   "outputs": [],
   "source": [
    "#encode the class names\n",
    "class_names = df[\"class_name\"].unique()\n",
    "class_names\n",
    "#initialize the label encoder\n",
    "from sklearn.preprocessing import LabelEncoder\n",
    "label_encoder = LabelEncoder()\n",
    "label_encoder.fit(class_names)\n",
    "label_encoder.classes_\n",
    "df[\"encoded\"]=label_encoder.fit_transform(df[\"class_name\"])\n"
   ]
  },
  {
   "cell_type": "code",
   "execution_count": null,
   "metadata": {},
   "outputs": [],
   "source": [
    "#save the encoder to a json and text to csv\n",
    "import json\n",
    "with open(\"label_encoder.json\", \"w\") as f:\n",
    "    json.dump(label_encoder.classes_.tolist(), f)\n",
    "df.to_csv(\"metadata.csv\", index=False)\n",
    "\n"
   ]
  },
  {
   "cell_type": "code",
   "execution_count": null,
   "metadata": {},
   "outputs": [],
   "source": [
    "df"
   ]
  },
  {
   "cell_type": "code",
   "execution_count": null,
   "metadata": {},
   "outputs": [],
   "source": [
    "df=pd.read_csv(\"metadata.csv\")\n",
    "encoder = json.load(open(\"label_encoder.json\", \"r\"))"
   ]
  },
  {
   "cell_type": "code",
   "execution_count": null,
   "metadata": {},
   "outputs": [],
   "source": [
    "dset={\"img\":[],\n",
    "      \"label\":[]}\n",
    "for i in range(len(df)):\n",
    "    img = df[\"file_path\"][i]\n",
    "    label = df[\"encoded\"][i]\n",
    "    dset[\"img\"].append(tiff.imread(img))\n",
    "    dset[\"label\"].append(label)\n",
    "dset[\"img\"]=np.array(dset[\"img\"])"
   ]
  },
  {
   "cell_type": "code",
   "execution_count": null,
   "metadata": {},
   "outputs": [],
   "source": [
    "#visualize the image with all the bands\n",
    "\n",
    "bands =[\"ultra_blue\", \"blue\", \"green\", \"red\", \"705\", \"740\", \"783\", \"842\", \"865\", \"940\", \"1375\", \"1610\", \"2190\",\"fertility\"]\n",
    "for i in range(len(dset[\"img\"][1000:10002])):\n",
    "    img =dset[\"img\"][i]\n",
    "    fig, axes = plt.subplots(1, len(bands), figsize=(12, 2), dpi=300)\n",
    "    fig.suptitle(\"Image with all bands \"+encoder[(dset[\"label\"][0])])\n",
    "    nvdi=(img[:,:,7]-img[:,:,3])/(img[:,:,3]+img[:,:,7])\n",
    "    for i in range(len(bands)-1):\n",
    "        axes[i].imshow(img[:,:,i])\n",
    "        axes[i].set_title(bands[i])\n",
    "        axes[i].axis(\"off\")\n",
    "    axes[i+1].imshow(nvdi)\n",
    "    axes[i+1].set_title(bands[i+1])\n",
    "    axes[i+1].axis(\"off\")\n",
    "    plt.show()\n",
    "\"\"\"fig, axes = plt.subplots(1, len(bands)-1, figsize=(10, 1), dpi=300)\n",
    "for i in range(len(bands)-1):\n",
    "    axes[i].imshow(img[:,:,i])\n",
    "    axes[i].set_title(bands[i])\n",
    "    axes[i].axis(\"off\")\n",
    "\"\"\""
   ]
  },
  {
   "cell_type": "code",
   "execution_count": null,
   "metadata": {},
   "outputs": [],
   "source": [
    "dset[\"img\"]=np.array(dset[\"img\"])\n",
    "dset[\"label\"]=np.array(dset[\"label\"])\n",
    "dset[\"img\"]=dset[\"img\"].astype(np.uint16)\n",
    "dset[\"label\"]=dset[\"label\"].astype(np.uint8)"
   ]
  },
  {
   "cell_type": "code",
   "execution_count": null,
   "metadata": {},
   "outputs": [],
   "source": [
    "stratergy = tf.distribute.MirroredStrategy()\n",
    "print('Number of devices: {}'.format(stratergy.num_replicas_in_sync))\n"
   ]
  },
  {
   "cell_type": "code",
   "execution_count": null,
   "metadata": {},
   "outputs": [],
   "source": [
    "\n",
    "def create_model():\n",
    "    # Load pre-trained MobileNetV2\n",
    "    base_model = tf.keras.applications.EfficientNetV2S(input_shape=[64,64,13], include_top=False,weights=None)\n",
    "\n",
    "    # Add layers to predict bounding boxes and class probabilities\n",
    "    x = base_model.output\n",
    "    x = tf.keras.layers.Flatten()(x)\n",
    "    x= tf.keras.layers.Dense(10,\"sigmoid\")(x)\n",
    "\n",
    "    # Create model\n",
    "    model = tf.keras.Model(inputs=base_model.input, outputs=x)\n",
    "    return model\n",
    "model = create_model()\n",
    "model.compile(optimizer='adam',loss=tf.keras.losses.SparseCategoricalCrossentropy(from_logits=True),metrics=['accuracy'])\n"
   ]
  },
  {
   "cell_type": "code",
   "execution_count": null,
   "metadata": {},
   "outputs": [],
   "source": [
    "len(encoder)"
   ]
  },
  {
   "cell_type": "code",
   "execution_count": null,
   "metadata": {},
   "outputs": [],
   "source": [
    "\n",
    "a=model.fit(dset[\"img\"], dset[\"label\"], epochs=15,batch_size=512,shuffle=True,validation_split=0.1,ca)\n"
   ]
  },
  {
   "cell_type": "code",
   "execution_count": null,
   "metadata": {},
   "outputs": [],
   "source": [
    "model.save(\"net.keras\")"
   ]
  },
  {
   "cell_type": "code",
   "execution_count": null,
   "metadata": {},
   "outputs": [],
   "source": []
  }
 ],
 "metadata": {
  "kernelspec": {
   "display_name": "Python 3 (ipykernel)",
   "language": "python",
   "name": "python3"
  },
  "language_info": {
   "codemirror_mode": {
    "name": "ipython",
    "version": 3
   },
   "file_extension": ".py",
   "mimetype": "text/x-python",
   "name": "python",
   "nbconvert_exporter": "python",
   "pygments_lexer": "ipython3",
   "version": "3.8.10"
  }
 },
 "nbformat": 4,
 "nbformat_minor": 4
}
